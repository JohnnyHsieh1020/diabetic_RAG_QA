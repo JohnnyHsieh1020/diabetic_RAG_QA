{
 "cells": [
  {
   "cell_type": "markdown",
   "metadata": {},
   "source": [
    "# Import Packages"
   ]
  },
  {
   "cell_type": "code",
   "execution_count": 1,
   "metadata": {},
   "outputs": [
    {
     "name": "stderr",
     "output_type": "stream",
     "text": [
      "/Users/johnny_hsieh/anaconda3/envs/rag_bloomz/lib/python3.11/site-packages/tqdm/auto.py:21: TqdmWarning: IProgress not found. Please update jupyter and ipywidgets. See https://ipywidgets.readthedocs.io/en/stable/user_install.html\n",
      "  from .autonotebook import tqdm as notebook_tqdm\n"
     ]
    }
   ],
   "source": [
    "from langchain_huggingface import HuggingFaceEmbeddings\n",
    "from langchain_community.vectorstores import FAISS\n",
    "from transformers import AutoTokenizer, AutoModelForCausalLM"
   ]
  },
  {
   "cell_type": "markdown",
   "metadata": {},
   "source": [
    "# Set parameters"
   ]
  },
  {
   "cell_type": "code",
   "execution_count": 2,
   "metadata": {},
   "outputs": [],
   "source": [
    "# Sentence embedding\n",
    "EMBED_MODEL_NAME = \"DMetaSoul/sbert-chinese-general-v2\"\n",
    "\n",
    "# LLM for generate answer\n",
    "TOKENIZER_MODEL_NAME = \"bigscience/bloomz-1b7\"\n",
    "LLM_NAME = \"bigscience/bloomz-1b7\"\n",
    "tokenizer = AutoTokenizer.from_pretrained(TOKENIZER_MODEL_NAME)\n",
    "model = AutoModelForCausalLM.from_pretrained(LLM_NAME)"
   ]
  },
  {
   "cell_type": "markdown",
   "metadata": {},
   "source": [
    "# Function for loading vector DB and generating a retriever"
   ]
  },
  {
   "cell_type": "code",
   "execution_count": 3,
   "metadata": {},
   "outputs": [],
   "source": [
    "def generate_retriever():\n",
    "    print(\"Loading vector DB...\")\n",
    "    # Change to \"cpu\" or \"cuda\" if your machine is Windows.\n",
    "    model_kwargs = {\"device\": \"mps\"}\n",
    "    embedding = HuggingFaceEmbeddings(model_name=EMBED_MODEL_NAME, model_kwargs=model_kwargs)\n",
    "    \n",
    "    db = FAISS.load_local(\"../diabetic_vector_db\", embedding, allow_dangerous_deserialization=True)\n",
    "    print(\"Done loading vector DB!\\n\")\n",
    "    return db.as_retriever(search_type=\"mmr\", search_kwargs={\"k\": 5})"
   ]
  },
  {
   "cell_type": "markdown",
   "metadata": {},
   "source": [
    "# Function for searching the related content"
   ]
  },
  {
   "cell_type": "code",
   "execution_count": 4,
   "metadata": {},
   "outputs": [],
   "source": [
    "def search_related_content(retriever, query):\n",
    "    docs = retriever.invoke(query)\n",
    "    related_context = \"\\n---\\n\".join([doc.page_content for doc in docs])\n",
    "    return related_context"
   ]
  },
  {
   "cell_type": "markdown",
   "metadata": {},
   "source": [
    "# Function for generating the answer"
   ]
  },
  {
   "cell_type": "code",
   "execution_count": 5,
   "metadata": {},
   "outputs": [],
   "source": [
    "def generate_answer(query, related_context):\n",
    "    template = f\"\"\"\n",
    "Instruction: \n",
    "1. Answer the question based on the below context, you can say \"不好意思，我不清楚\" if you don't know the answer.\n",
    "2. Use traditional Chinese to answer the question.\n",
    "3. Suppose you are a professional nurse who answers questions for diabetics.\n",
    "---\n",
    "Context:\n",
    "{related_context}\n",
    "---\n",
    "Question:\n",
    "{query}\n",
    "\"\"\"\n",
    "\n",
    "    input_ids = tokenizer.encode(template, return_tensors=\"pt\")\n",
    "    gen_tokens = model.generate(input_ids, max_length=2048).to(\"mps\")\n",
    "    qa_result = tokenizer.decode(gen_tokens[0], skip_special_tokens=True)\n",
    "    return qa_result"
   ]
  },
  {
   "cell_type": "markdown",
   "metadata": {},
   "source": [
    "# Generate retriever"
   ]
  },
  {
   "cell_type": "code",
   "execution_count": 6,
   "metadata": {},
   "outputs": [
    {
     "name": "stdout",
     "output_type": "stream",
     "text": [
      "Loading vector DB...\n"
     ]
    },
    {
     "name": "stderr",
     "output_type": "stream",
     "text": [
      "/Users/johnny_hsieh/anaconda3/envs/rag_bloomz/lib/python3.11/site-packages/huggingface_hub/file_download.py:1132: FutureWarning: `resume_download` is deprecated and will be removed in version 1.0.0. Downloads always resume when possible. If you want to force a new download, use `force_download=True`.\n",
      "  warnings.warn(\n"
     ]
    },
    {
     "name": "stdout",
     "output_type": "stream",
     "text": [
      "Done loading vector DB!\n",
      "\n"
     ]
    }
   ],
   "source": [
    "retriever = generate_retriever()"
   ]
  },
  {
   "cell_type": "markdown",
   "metadata": {},
   "source": [
    "# Search related content and generate answer"
   ]
  },
  {
   "cell_type": "code",
   "execution_count": 7,
   "metadata": {},
   "outputs": [],
   "source": [
    "question = [\"水果每天建議攝取量是多少？\", \"紅豆屬於哪一類食物？\"]\n",
    "\n",
    "answers = []\n",
    "for query in question:\n",
    "    related_context = search_related_content(retriever, query)\n",
    "    result = generate_answer(query, related_context)\n",
    "    answers.append(result)\n"
   ]
  },
  {
   "cell_type": "code",
   "execution_count": 8,
   "metadata": {},
   "outputs": [
    {
     "name": "stdout",
     "output_type": "stream",
     "text": [
      "水果每天建議攝取量是多少？ \n",
      "Instruction: \n",
      "1. Answer the question based on the below context, you can say \"不好意思，我不清楚\" if you don't know the answer.\n",
      "2. Use traditional Chinese to answer the question.\n",
      "3. Suppose you are a professional nurse who answers questions for diabetics.\n",
      "---\n",
      "Context:\n",
      "糖尿病友因怕血糖高，水果都不太敢吃。水果富含豐富維生素及纖維質，提供新陳代謝及促腸蠕動的營養素。建議最好是直接食用原型水果，避免果汁、加工水果及果醬等，因為這些已經去除了纖維容易使血糖快速升高。每天建議攝取量為2份水果。不能依口感覺得甜不甜來判斷吃多少量 。 大家對甜的感覺來自於味覺 ，水果的升糖指數也並非取決甜度及含糖量 。 影響升糖指數的因素 ， 包含澱粉組成 、含醣總量、加工和烹調方式，與膳食纖維質及種類等，無法單從食物決定。所以水果每天建議攝取量為2份，1份水果約像棒球大小的量(女生拳頭大)或是一般的碗切好在碗裡約8分滿。注意份量限制，基本上是可以每天吃水果，亦是維持健康與均衡飲食的元素之一。 紅豆屬於澱粉類也是全穀雜糧類食物。當紅豆煮時會裂開澱粉流出，就算是喝無加糖的紅豆湯也是會影響血糖。一份紅豆約是熟的紅豆放在免洗湯匙3湯匙，若是點心攝取紅豆湯，建議下一餐則要減少澱粉類的攝取\n",
      "---\n",
      "第四，善用科技工具，降低記錄難度。以智抗糖App為例，飲食記錄方面提供了多種功能，包括拍攝食物、上傳照片、使用食物資料庫、掃描包裝條碼以及拍攝照片並透過AI辨識等。在食物資料庫功能下，只需輸入關鍵字即可快速查詢到相應的食物選項，並立即記錄相關的營養素，有效節省了打字、查資料和拍照的時間。而透過拍攝照片並透過AI辨識功能，人工智慧能夠自動偵測食物的種類，並搜尋出相關的飲食熱量、醣量等資訊，省去了輸入關鍵字查詢的步驟，大大提升了記錄的效率，減少了記錄的難度。最後是，建立個人清單，讓記錄更快速。記錄飲食一段時間後，會發現某些食物經常重複出現。這時會推薦你將這些常出現的食物，整理成自己常吃的食物選項。同樣是智抗糖App內的功能：你可以將常吃的食物加入”最愛”選項，如此一來就能一鍵記錄食物了。除此之外，也可以透過這個方式，判斷自己常吃的食物的頻率、份量，了解對血糖、體重及其他健康指標的影響\n",
      "---\n",
      "如果沒有記錄份量，便難以和血糖數值的變化做連結。同樣地，不同的烹調方式也會大幅度影響食物的熱量。若沒有記下烹調方式會造成飲食控制的成效出現落差。舉例來說：炸雞腿和烤雞\n",
      "---\n",
      "比方說，在吃中式合菜時，可以先記錄米飯、炒麵、叉燒包的份量，這樣可以有效掌握飲食中的醣量。另一方面， 熱量也是需要關注的重要指標， 特別對於有體重管理需求的人來說更是如此，因為體重的增加對於血糖控制更不利。 建議初期可以選擇食物資料庫內建的食物 ，或者是有營養標示的食物進行記錄。在記錄時，可以以看起來的份量為依據，多試幾次後，就可以比照多少熱量對應到多少份量。通過這樣的方式，可以逐漸學習如何調整份量，輕鬆控制熱量在合適的範圍內。第三，注意常見問題，減少記錄誤差。有些人記錄飲食時，習慣只寫食物的名稱，不會記錄當下攝取的份量，例如只寫了飯，而不是寫一碗飯或一拳頭大小的飯，但同樣是會讓血糖上升的米飯，攝取半碗和兩碗，對血糖的影響便相差甚遠。如果沒有記錄份量，便難以和血糖數值的變化做連結。同樣地，不同的烹調方式也會大幅度影響食物的熱量。若沒有記下烹調方式會造成飲食控制的成效出現落差\n",
      "---\n",
      "記錄飲食一段時間後，會發現某些食物經常重複出現。這時會推薦你將這些常出現的食物，整理成自己常吃的食物選項。同樣是智抗糖App內的功能：你可以將常吃的食物加入”最愛”選項，如此一來就能一鍵記錄食物了。除此之外，也可以透過這個方式，判斷自己常吃的食物的頻率、份量，了解對血糖、體重及其他健康指標的影響。分享了這麼多，其實也不希望帶給糖友們壓力。在記錄飲食日記時，多多少少也會感到疲勞，或是偶爾真的想休息一下的時候。這時也可以安排一些喘息空間，例如週一到週五詳細記錄，週六日以拍照為主；或者，真的沒記錄到也無妨，適時讓自己放個假，在飲食控制的過程中稍做休息也是十分重要的喔。\n",
      "---\n",
      "Question:\n",
      "水果每天建議攝取量是多少？\n",
      "2份\n",
      "紅豆屬於哪一類食物？ \n",
      "Instruction: \n",
      "1. Answer the question based on the below context, you can say \"不好意思，我不清楚\" if you don't know the answer.\n",
      "2. Use traditional Chinese to answer the question.\n",
      "3. Suppose you are a professional nurse who answers questions for diabetics.\n",
      "---\n",
      "Context:\n",
      "糖尿病友因怕血糖高，水果都不太敢吃。水果富含豐富維生素及纖維質，提供新陳代謝及促腸蠕動的營養素。建議最好是直接食用原型水果，避免果汁、加工水果及果醬等，因為這些已經去除了纖維容易使血糖快速升高。每天建議攝取量為2份水果。不能依口感覺得甜不甜來判斷吃多少量 。 大家對甜的感覺來自於味覺 ，水果的升糖指數也並非取決甜度及含糖量 。 影響升糖指數的因素 ， 包含澱粉組成 、含醣總量、加工和烹調方式，與膳食纖維質及種類等，無法單從食物決定。所以水果每天建議攝取量為2份，1份水果約像棒球大小的量(女生拳頭大)或是一般的碗切好在碗裡約8分滿。注意份量限制，基本上是可以每天吃水果，亦是維持健康與均衡飲食的元素之一。 紅豆屬於澱粉類也是全穀雜糧類食物。當紅豆煮時會裂開澱粉流出，就算是喝無加糖的紅豆湯也是會影響血糖。一份紅豆約是熟的紅豆放在免洗湯匙3湯匙，若是點心攝取紅豆湯，建議下一餐則要減少澱粉類的攝取\n",
      "---\n",
      "第四，善用科技工具，降低記錄難度。以智抗糖App為例，飲食記錄方面提供了多種功能，包括拍攝食物、上傳照片、使用食物資料庫、掃描包裝條碼以及拍攝照片並透過AI辨識等。在食物資料庫功能下，只需輸入關鍵字即可快速查詢到相應的食物選項，並立即記錄相關的營養素，有效節省了打字、查資料和拍照的時間。而透過拍攝照片並透過AI辨識功能，人工智慧能夠自動偵測食物的種類，並搜尋出相關的飲食熱量、醣量等資訊，省去了輸入關鍵字查詢的步驟，大大提升了記錄的效率，減少了記錄的難度。最後是，建立個人清單，讓記錄更快速。記錄飲食一段時間後，會發現某些食物經常重複出現。這時會推薦你將這些常出現的食物，整理成自己常吃的食物選項。同樣是智抗糖App內的功能：你可以將常吃的食物加入”最愛”選項，如此一來就能一鍵記錄食物了。除此之外，也可以透過這個方式，判斷自己常吃的食物的頻率、份量，了解對血糖、體重及其他健康指標的影響\n",
      "---\n",
      "如果沒有記錄份量，便難以和血糖數值的變化做連結。同樣地，不同的烹調方式也會大幅度影響食物的熱量。若沒有記下烹調方式會造成飲食控制的成效出現落差。舉例來說：炸雞腿和烤雞\n",
      "---\n",
      "比方說，在吃中式合菜時，可以先記錄米飯、炒麵、叉燒包的份量，這樣可以有效掌握飲食中的醣量。另一方面， 熱量也是需要關注的重要指標， 特別對於有體重管理需求的人來說更是如此，因為體重的增加對於血糖控制更不利。 建議初期可以選擇食物資料庫內建的食物 ，或者是有營養標示的食物進行記錄。在記錄時，可以以看起來的份量為依據，多試幾次後，就可以比照多少熱量對應到多少份量。通過這樣的方式，可以逐漸學習如何調整份量，輕鬆控制熱量在合適的範圍內。第三，注意常見問題，減少記錄誤差。有些人記錄飲食時，習慣只寫食物的名稱，不會記錄當下攝取的份量，例如只寫了飯，而不是寫一碗飯或一拳頭大小的飯，但同樣是會讓血糖上升的米飯，攝取半碗和兩碗，對血糖的影響便相差甚遠。如果沒有記錄份量，便難以和血糖數值的變化做連結。同樣地，不同的烹調方式也會大幅度影響食物的熱量。若沒有記下烹調方式會造成飲食控制的成效出現落差\n",
      "---\n",
      "注意份量限制，基本上是可以每天吃水果，亦是維持健康與均衡飲食的元素之一。 紅豆屬於澱粉類也是全穀雜糧類食物。當紅豆煮時會裂開澱粉流出，就算是喝無加糖的紅豆湯也是會影響血糖。一份紅豆約是熟的紅豆放在免洗湯匙3湯匙，若是點心攝取紅豆湯，建議下一餐則要減少澱粉類的攝取。 胰島素治療並不是在病情變嚴重時才使用，而是在使用其它降血糖藥物後，都無法穩定的控制血糖，建議患者改打胰島素。不過，也有些糖尿病初期患者，就必須直接使用胰島素注射治療。胰島素的劑型很多，有速效型、短效型、中效型、長效型胰島素等，醫師會根據病患個人狀況來決定所使用的藥物。而胰島素本身並不會造成洗腎，是長期血糖控不好，容易產生高血壓、心血管疾病及洗腎併發症的風險。對於糖尿病患者來說，只要能成功降低血糖、穩定控制血糖，除了口服降血糖藥物，注射胰島素當然也是一種選項。\n",
      "---\n",
      "Question:\n",
      "紅豆屬於哪一類食物？\n",
      "全穀雜糧類食物\n"
     ]
    }
   ],
   "source": [
    "for q, a in zip(question,answers):\n",
    "    print(q, a)"
   ]
  }
 ],
 "metadata": {
  "kernelspec": {
   "display_name": "chatbot_rag",
   "language": "python",
   "name": "python3"
  },
  "language_info": {
   "codemirror_mode": {
    "name": "ipython",
    "version": 3
   },
   "file_extension": ".py",
   "mimetype": "text/x-python",
   "name": "python",
   "nbconvert_exporter": "python",
   "pygments_lexer": "ipython3",
   "version": "3.11.9"
  }
 },
 "nbformat": 4,
 "nbformat_minor": 2
}
